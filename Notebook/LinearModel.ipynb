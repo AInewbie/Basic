{
 "cells": [
  {
   "cell_type": "code",
   "execution_count": 1,
   "metadata": {},
   "outputs": [
    {
     "data": {
      "text/plain": [
       "<Figure size 640x480 with 1 Axes>"
      ]
     },
     "metadata": {},
     "output_type": "display_data"
    }
   ],
   "source": [
    "# DON'T WORRY ABOUT THIS CELL, IT JUST SETS SOME STUFF UP THAT WAS CODED IN PREVIOUS NOTEBOOKS\n",
    "import numpy as np\n",
    "import matplotlib.pyplot as plt\n",
    "\n",
    "def sample_linear_data(m=20): \n",
    "    ground_truth_w = 2.3 # slope\n",
    "    ground_truth_b = -8 #intercept\n",
    "    X = np.random.randn(m)*2\n",
    "    Y = ground_truth_w*X + ground_truth_b + 0.2*np.random.randn(m)\n",
    "    return X, Y #returns X (the input) and Y (labels)\n",
    "\n",
    "def plot_data(X, Y):\n",
    "    plt.figure()\n",
    "    plt.scatter(X, Y, c='r')\n",
    "    plt.xlabel('X')\n",
    "    plt.ylabel('Y')\n",
    "    plt.show()\n",
    "    \n",
    "m = 50\n",
    "X, Y = sample_linear_data(m)\n",
    "plot_data(X, Y)\n",
    "\n",
    "def plot_h_vs_y(X, y_hat, Y):\n",
    "    plt.figure()\n",
    "    plt.scatter(X, Y, c='r', label='Label')\n",
    "    plt.scatter(X, y_hat, c='b', label='Hypothesis', marker='x')\n",
    "    plt.legend()\n",
    "    plt.xlabel('X')\n",
    "    plt.ylabel('Y')\n",
    "    plt.show()\n",
    "    \n",
    "# DEFINE MEAN SQUARED ERROR LOSS FUNCTION\n",
    "def L(y_hat, labels):\n",
    "    errors = y_hat - labels # calculate errors\n",
    "    squared_errors = np.square(errors) # square errors\n",
    "    mean_squared_error = np.sum(squared_errors) / (m) # calculate mean \n",
    "    return mean_squared_error # return loss"
   ]
  },
  {
   "cell_type": "code",
   "execution_count": null,
   "metadata": {},
   "outputs": [],
   "source": [
    "class LinearHypothesis:\n",
    "    def __init__(self): #initalize parameters \n",
    "        self.w = np.random.randn() ## randomly initialise weight\n",
    "        self.b = np.random.randn() ## randomly initialise bias\n",
    "        \n",
    "    def __call__(self, X): # how do we calculate output from an input in our model?\n",
    "        ypred = self.w * X + self.b ## make a prediction\n",
    "        return ypred # return prediction\n",
    "    \n",
    "    def update_params(self, new_w, new_b):\n",
    "        self.w = new_w ## set this instance's weights to the new weight value passed to the function\n",
    "        self.b = new_b ## do the same for the bias"
   ]
  },
  {
   "cell_type": "code",
   "execution_count": 3,
   "metadata": {},
   "outputs": [
    {
     "name": "stdout",
     "output_type": "stream",
     "text": [
      "Input: [ 0.64476417 -2.44735493  4.01584009 -0.84713461  5.23815837 -1.28843747\n",
      "  1.27288824  2.18938962  1.95609584  0.22009754 -2.86977721 -2.83269821\n",
      " -0.8248512  -2.22272354  1.11669274 -0.8641224   1.46167424  1.42652617\n",
      " -4.32962001 -0.1464862   0.40390307  0.21039793  0.36049184  1.40553243\n",
      "  2.76186399 -0.96309023  2.55364605  1.10227165  0.0512783   1.30204728\n",
      "  0.69292969 -0.57639162 -2.51063446 -2.47597632  2.49812814 -4.13432427\n",
      "  0.65676208  2.18538847 -3.70190799 -0.70512346  1.33671746  3.6625388\n",
      " -2.29436719 -0.83974321 -1.26608186  0.25500899  0.87357112 -1.32737562\n",
      "  1.54249009  3.97773746] \n",
      "\n",
      "W: -0.7452551903341408 B: -0.6814931792860974 \n",
      "\n",
      "Prediction: [-1.16200702  1.14241079 -3.67431885 -0.05016172 -4.58525789  0.27872153\n",
      " -1.63011975 -2.31314716 -2.13928375 -0.84552202  1.45722318  1.42958986\n",
      " -0.06676854  0.97500308 -1.51371424 -0.03750148 -1.77081349 -1.74461921\n",
      "  2.5451786  -0.57232358 -0.98250404 -0.83829333 -0.95015159 -1.72897352\n",
      " -2.73978665  0.03625481 -2.58461115 -1.50296685 -0.7197086  -1.65185068\n",
      " -1.19790263 -0.25193433  1.18957018  1.16374102 -2.54323615  2.39963344\n",
      " -1.17094853 -2.31016528  2.07737297 -0.15599626 -1.6776888  -3.41101923\n",
      "  1.02839588 -0.0556702   0.2620609  -0.87153995 -1.33252659  0.30774039\n",
      " -1.83104193 -3.64592267] \n",
      "\n"
     ]
    }
   ],
   "source": [
    "\n",
    "H = LinearHypothesis() # instantiate our linear model\n",
    "y_hat = H(X) # make prediction\n",
    "print('Input:',X, '\\n')\n",
    "print('W:', H.w, 'B:', H.b, '\\n')\n",
    "print('Prediction:', y_hat, '\\n')"
   ]
  },
  {
   "cell_type": "code",
   "execution_count": 4,
   "metadata": {},
   "outputs": [],
   "source": [
    "def plot_h_vs_y(X, y_hat, Y):\n",
    "    plt.figure()\n",
    "    plt.scatter(X, Y, c='r', label='Label')\n",
    "    plt.scatter(X, y_hat, c='b', label='Hypothesis', marker='x')\n",
    "    plt.legend()\n",
    "    plt.xlabel('X')\n",
    "    plt.ylabel('Y')\n",
    "    plt.show()\n"
   ]
  },
  {
   "cell_type": "code",
   "execution_count": 5,
   "metadata": {},
   "outputs": [
    {
     "data": {
      "image/png": "[encoded data removed]",
      "text/plain": [
       "<Figure size 432x288 with 1 Axes>"
      ]
     },
     "metadata": {
      "needs_background": "light"
     },
     "output_type": "display_data"
    }
   ],
   "source": [
    "plot_h_vs_y(X, y_hat, Y)\n"
   ]
  },
  {
   "cell_type": "code",
   "execution_count": 6,
   "metadata": {},
   "outputs": [],
   "source": [
    "def L(y_hat, labels):\n",
    "    errors = y_hat - labels ## calculate errors\n",
    "    squared_errors = errors ** 2 ## square errors\n",
    "    mean_squared_error = sum(squared_errors) / len(squared_errors) ## calculate mean \n",
    "    return mean_squared_error # return loss"
   ]
  },
  {
   "cell_type": "code",
   "execution_count": 7,
   "metadata": {},
   "outputs": [
    {
     "name": "stdout",
     "output_type": "stream",
     "text": [
      "88.2148709416541\n"
     ]
    }
   ],
   "source": [
    "cost = L(y_hat, Y)\n",
    "print(cost)"
   ]
  },
  {
   "cell_type": "code",
   "execution_count": 8,
   "metadata": {},
   "outputs": [],
   "source": [
    "def random_search(n_samples, limit=20):\n",
    "    best_weights = np.random.uniform(-limit, limit) # no best weight found yet\n",
    "    best_bias = np.random.uniform(-limit, limit) # no best bias found yet\n",
    "    lowest_cost = float('inf') # initialize it very high\n",
    "    for i in range(0, n_samples): # try this many different parameterisations\n",
    "        w = np.random.uniform(-limit, limit) # randomly sample a weight within the limits of the search\n",
    "        b = np.random.uniform(-limit, limit) # randomly sample a bias within the limits of the search\n",
    "        H.update_params(w, b) # update our model with random parameters\n",
    "        y_hat = H(X) # make prediction\n",
    "        cost = L(y_hat, Y) # calculate loss\n",
    "        if cost < lowest_cost: # if this is the best parameterisation so far\n",
    "            lowest_cost = cost # update the lowest running cost to the cost for this parameterisation\n",
    "            best_weights = w # get best weights so far from the model\n",
    "            best_bias = b # get best bias so far from the model\n",
    "    print('Lowest cost of', lowest_cost, 'achieved with weight of', best_weights, 'and bias of', best_bias)\n",
    "    return best_weights, best_bias"
   ]
  },
  {
   "cell_type": "code",
   "execution_count": 9,
   "metadata": {},
   "outputs": [
    {
     "name": "stdout",
     "output_type": "stream",
     "text": [
      "Lowest cost of 3.424105257205228 achieved with weight of 3.1492474312559224 and bias of -7.909077886946179\n"
     ]
    },
    {
     "data": {
      "image/png": "[encoded data removed]",
      "text/plain": [
       "<Figure size 432x288 with 1 Axes>"
      ]
     },
     "metadata": {
      "needs_background": "light"
     },
     "output_type": "display_data"
    }
   ],
   "source": [
    "\n",
    "best_weights, best_bias = random_search(100) # do 100 samples in a random search \n",
    "H.update_params(best_weights, best_bias) # make sure to set our model's weights to the best values we found\n",
    "plot_h_vs_y(X, H(X), Y)"
   ]
  },
  {
   "cell_type": "code",
   "execution_count": 10,
   "metadata": {},
   "outputs": [],
   "source": [
    "from itertools import permutations\n",
    "def generate_grid_search_values(n_params, n_samples=100, minval=-2.5, maxval=2.5):\n",
    "    n_samples_per_param = int(np.power(n_samples, 1 / n_params)) # want 100 samples for 2 variables, so try 10 different values for each parameter because 10^2=100\n",
    "    print(f'Trying {n_samples_per_param} samples per parameter')\n",
    "    param_values = np.linspace(minval, maxval, n_samples_per_param) ## get list of different parameters to try\n",
    "    grid_samples = permutations(param_values, n_params) ## try every possible permutation of the param values\n",
    "    return grid_samples\n",
    "\n",
    "def grid_search(grid_search_values):\n",
    "    best_weights = np.random.randn() ## no best weight found yet\n",
    "    best_bias = np.random.randn() ## no best bias found yet\n",
    "    lowest_cost = float('inf') ## initialize it very high\n",
    "    for search_val in grid_search_values: # for each model parameterisation that we will try \n",
    "        w, b = search_val\n",
    "        H.update_params(w, b) ## update model parameters\n",
    "        y_hat = H(X) ## make prediction\n",
    "        cost = L(y_hat, Y) ## calculate loss\n",
    "        if cost < lowest_cost: ## if this is the best parameterisation so far\n",
    "            lowest_cost = cost ## update the lowest running cost to the cost for this parameterisation\n",
    "            best_weights = w ## get best weights so far from the model\n",
    "            best_bias = b ## get best bias so far from the model\n",
    "    print('Lowest cost of', lowest_cost, 'achieved with weight of', best_weights, 'and bias of', best_bias)\n",
    "    return best_weights, best_bias"
   ]
  },
  {
   "cell_type": "code",
   "execution_count": null,
   "metadata": {},
   "outputs": [],
   "source": []
  }
 ],
 "metadata": {
  "kernelspec": {
   "display_name": "Python 3",
   "language": "python",
   "name": "python3"
  },
  "language_info": {
   "codemirror_mode": {
    "name": "ipython",
    "version": 3
   },
   "file_extension": ".py",
   "mimetype": "text/x-python",
   "name": "python",
   "nbconvert_exporter": "python",
   "pygments_lexer": "ipython3",
   "version": "3.7.3"
  }
 },
 "nbformat": 4,
 "nbformat_minor": 4
}
