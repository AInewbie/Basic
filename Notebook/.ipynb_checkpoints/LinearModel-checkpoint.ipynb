{
 "cells": [
  {
   "cell_type": "code",
   "execution_count": 1,
   "metadata": {},
   "outputs": [
    {
     "data": {
      "text/plain": [
       "<Figure size 640x480 with 1 Axes>"
      ]
     },
     "metadata": {},
     "output_type": "display_data"
    }
   ],
   "source": [
    "# DON'T WORRY ABOUT THIS CELL, IT JUST SETS SOME STUFF UP THAT WAS CODED IN PREVIOUS NOTEBOOKS\n",
    "import numpy as np\n",
    "import matplotlib.pyplot as plt\n",
    "\n",
    "def sample_linear_data(m=20): \n",
    "    ground_truth_w = 2.3 # slope\n",
    "    ground_truth_b = -8 #intercept\n",
    "    X = np.random.randn(m)*2\n",
    "    Y = ground_truth_w*X + ground_truth_b + 0.2*np.random.randn(m)\n",
    "    return X, Y #returns X (the input) and Y (labels)\n",
    "\n",
    "def plot_data(X, Y):\n",
    "    plt.figure()\n",
    "    plt.scatter(X, Y, c='r')\n",
    "    plt.xlabel('X')\n",
    "    plt.ylabel('Y')\n",
    "    plt.show()\n",
    "    \n",
    "m = 50\n",
    "X, Y = sample_linear_data(m)\n",
    "plot_data(X, Y)\n",
    "\n",
    "def plot_h_vs_y(X, y_hat, Y):\n",
    "    plt.figure()\n",
    "    plt.scatter(X, Y, c='r', label='Label')\n",
    "    plt.scatter(X, y_hat, c='b', label='Hypothesis', marker='x')\n",
    "    plt.legend()\n",
    "    plt.xlabel('X')\n",
    "    plt.ylabel('Y')\n",
    "    plt.show()\n",
    "    \n",
    "# DEFINE MEAN SQUARED ERROR LOSS FUNCTION\n",
    "def L(y_hat, labels):\n",
    "    errors = y_hat - labels # calculate errors\n",
    "    squared_errors = np.square(errors) # square errors\n",
    "    mean_squared_error = np.sum(squared_errors) / (m) # calculate mean \n",
    "    return mean_squared_error # return loss"
   ]
  },
  {
   "cell_type": "code",
   "execution_count": null,
   "metadata": {},
   "outputs": [],
   "source": []
  },
  {
   "cell_type": "code",
   "execution_count": null,
   "metadata": {},
   "outputs": [],
   "source": [
    "class LinearHypothesis:\n",
    "    def __init__(self): #initalize parameters \n",
    "        self.w = np.random.randn() ## randomly initialise weight\n",
    "        self.b = np.random.randn() ## randomly initialise bias\n",
    "        \n",
    "    def __call__(self, X): # how do we calculate output from an input in our model?\n",
    "        ypred = self.w * X + self.b ## make a prediction\n",
    "        return ypred # return prediction\n",
    "    \n",
    "    def update_params(self, new_w, new_b):\n",
    "        self.w = new_w ## set this instance's weights to the new weight value passed to the function\n",
    "        self.b = new_b ## do the same for the bias"
   ]
  },
  {
   "cell_type": "code",
   "execution_count": 3,
   "metadata": {},
   "outputs": [
    {
     "name": "stdout",
     "output_type": "stream",
     "text": [
      "Input: [ 0.64476417 -2.44735493  4.01584009 -0.84713461  5.23815837 -1.28843747\n",
      "  1.27288824  2.18938962  1.95609584  0.22009754 -2.86977721 -2.83269821\n",
      " -0.8248512  -2.22272354  1.11669274 -0.8641224   1.46167424  1.42652617\n",
      " -4.32962001 -0.1464862   0.40390307  0.21039793  0.36049184  1.40553243\n",
      "  2.76186399 -0.96309023  2.55364605  1.10227165  0.0512783   1.30204728\n",
      "  0.69292969 -0.57639162 -2.51063446 -2.47597632  2.49812814 -4.13432427\n",
      "  0.65676208  2.18538847 -3.70190799 -0.70512346  1.33671746  3.6625388\n",
      " -2.29436719 -0.83974321 -1.26608186  0.25500899  0.87357112 -1.32737562\n",
      "  1.54249009  3.97773746] \n",
      "\n",
      "W: -0.7452551903341408 B: -0.6814931792860974 \n",
      "\n",
      "Prediction: [-1.16200702  1.14241079 -3.67431885 -0.05016172 -4.58525789  0.27872153\n",
      " -1.63011975 -2.31314716 -2.13928375 -0.84552202  1.45722318  1.42958986\n",
      " -0.06676854  0.97500308 -1.51371424 -0.03750148 -1.77081349 -1.74461921\n",
      "  2.5451786  -0.57232358 -0.98250404 -0.83829333 -0.95015159 -1.72897352\n",
      " -2.73978665  0.03625481 -2.58461115 -1.50296685 -0.7197086  -1.65185068\n",
      " -1.19790263 -0.25193433  1.18957018  1.16374102 -2.54323615  2.39963344\n",
      " -1.17094853 -2.31016528  2.07737297 -0.15599626 -1.6776888  -3.41101923\n",
      "  1.02839588 -0.0556702   0.2620609  -0.87153995 -1.33252659  0.30774039\n",
      " -1.83104193 -3.64592267] \n",
      "\n"
     ]
    }
   ],
   "source": [
    "\n",
    "H = LinearHypothesis() # instantiate our linear model\n",
    "y_hat = H(X) # make prediction\n",
    "print('Input:',X, '\\n')\n",
    "print('W:', H.w, 'B:', H.b, '\\n')\n",
    "print('Prediction:', y_hat, '\\n')"
   ]
  },
  {
   "cell_type": "code",
   "execution_count": 4,
   "metadata": {},
   "outputs": [],
   "source": [
    "def plot_h_vs_y(X, y_hat, Y):\n",
    "    plt.figure()\n",
    "    plt.scatter(X, Y, c='r', label='Label')\n",
    "    plt.scatter(X, y_hat, c='b', label='Hypothesis', marker='x')\n",
    "    plt.legend()\n",
    "    plt.xlabel('X')\n",
    "    plt.ylabel('Y')\n",
    "    plt.show()\n"
   ]
  },
  {
   "cell_type": "code",
   "execution_count": 5,
   "metadata": {},
   "outputs": [
    {
     "data": {
      "image/png": "[encoded data removed]",
      "text/plain": [
       "<Figure size 432x288 with 1 Axes>"
      ]
     },
     "metadata": {
      "needs_background": "light"
     },
     "output_type": "display_data"
    }
   ],
   "source": [
    "plot_h_vs_y(X, y_hat, Y)\n"
   ]
  },
  {
   "cell_type": "code",
   "execution_count": 6,
   "metadata": {},
   "outputs": [],
   "source": [
    "def L(y_hat, labels):\n",
    "    errors = y_hat - labels ## calculate errors\n",
    "    squared_errors = errors ** 2 ## square errors\n",
    "    mean_squared_error = sum(squared_errors) / len(squared_errors) ## calculate mean \n",
    "    return mean_squared_error # return loss"
   ]
  },
  {
   "cell_type": "code",
   "execution_count": 7,
   "metadata": {},
   "outputs": [
    {
     "name": "stdout",
     "output_type": "stream",
     "text": [
      "88.2148709416541\n"
     ]
    }
   ],
   "source": [
    "cost = L(y_hat, Y)\n",
    "print(cost)"
   ]
  },
  {
   "cell_type": "code",
   "execution_count": 8,
   "metadata": {},
   "outputs": [],
   "source": [
    "def random_search(n_samples, limit=20):\n",
    "    best_weights = np.random.uniform(-limit, limit) # no best weight found yet\n",
    "    best_bias = np.random.uniform(-limit, limit) # no best bias found yet\n",
    "    lowest_cost = float('inf') # initialize it very high\n",
    "    for i in range(0, n_samples): # try this many different parameterisations\n",
    "        w = np.random.uniform(-limit, limit) # randomly sample a weight within the limits of the search\n",
    "        b = np.random.uniform(-limit, limit) # randomly sample a bias within the limits of the search\n",
    "        H.update_params(w, b) # update our model with random parameters\n",
    "        y_hat = H(X) # make prediction\n",
    "        cost = L(y_hat, Y) # calculate loss\n",
    "        if cost < lowest_cost: # if this is the best parameterisation so far\n",
    "            lowest_cost = cost # update the lowest running cost to the cost for this parameterisation\n",
    "            best_weights = w # get best weights so far from the model\n",
    "            best_bias = b # get best bias so far from the model\n",
    "    print('Lowest cost of', lowest_cost, 'achieved with weight of', best_weights, 'and bias of', best_bias)\n",
    "    return best_weights, best_bias"
   ]
  },
  {
   "cell_type": "code",
   "execution_count": 9,
   "metadata": {},
   "outputs": [
    {
     "name": "stdout",
     "output_type": "stream",
     "text": [
      "Lowest cost of 3.424105257205228 achieved with weight of 3.1492474312559224 and bias of -7.909077886946179\n"
     ]
    },
    {
     "data": {
      "image/png": "[encoded data removed]",
      "text/plain": [
       "<Figure size 432x288 with 1 Axes>"
      ]
     },
     "metadata": {
      "needs_background": "light"
     },
     "output_type": "display_data"
    }
   ],
   "source": [
    "\n",
    "best_weights, best_bias = random_search(100) # do 100 samples in a random search \n",
    "H.update_params(best_weights, best_bias) # make sure to set our model's weights to the best values we found\n",
    "plot_h_vs_y(X, H(X), Y)"
   ]
  },
  {
   "cell_type": "code",
   "execution_count": 10,
   "metadata": {},
   "outputs": [],
   "source": [
    "from itertools import permutations\n",
    "def generate_grid_search_values(n_params, n_samples=100, minval=-2.5, maxval=2.5):\n",
    "    n_samples_per_param = int(np.power(n_samples, 1 / n_params)) # want 100 samples for 2 variables, so try 10 different values for each parameter because 10^2=100\n",
    "    print(f'Trying {n_samples_per_param} samples per parameter')\n",
    "    param_values = np.linspace(minval, maxval, n_samples_per_param) ## get list of different parameters to try\n",
    "    grid_samples = permutations(param_values, n_params) ## try every possible permutation of the param values\n",
    "    return grid_samples\n",
    "\n",
    "def grid_search(grid_search_values):\n",
    "    best_weights = np.random.randn() ## no best weight found yet\n",
    "    best_bias = np.random.randn() ## no best bias found yet\n",
    "    lowest_cost = float('inf') ## initialize it very high\n",
    "    for search_val in grid_search_values: # for each model parameterisation that we will try \n",
    "        w, b = search_val\n",
    "        H.update_params(w, b) ## update model parameters\n",
    "        y_hat = H(X) ## make prediction\n",
    "        cost = L(y_hat, Y) ## calculate loss\n",
    "        if cost < lowest_cost: ## if this is the best parameterisation so far\n",
    "            lowest_cost = cost ## update the lowest running cost to the cost for this parameterisation\n",
    "            best_weights = w ## get best weights so far from the model\n",
    "            best_bias = b ## get best bias so far from the model\n",
    "    print('Lowest cost of', lowest_cost, 'achieved with weight of', best_weights, 'and bias of', best_bias)\n",
    "    return best_weights, best_bias"
   ]
  },
  {
   "cell_type": "code",
   "execution_count": 11,
   "metadata": {},
   "outputs": [
    {
     "name": "stdout",
     "output_type": "stream",
     "text": [
      "Trying 10 samples per parameter\n",
      "Lowest cost of 29.71638812121159 achieved with weight of 1.9444444444444446 and bias of -2.5\n"
     ]
    },
    {
     "data": {
      "image/png": "[encoded data removed]",
      "text/plain": [
       "<Figure size 432x288 with 1 Axes>"
      ]
     },
     "metadata": {
      "needs_background": "light"
     },
     "output_type": "display_data"
    },
    {
     "name": "stdout",
     "output_type": "stream",
     "text": [
      "Trying 9 samples per parameter\n",
      "Lowest cost of 29.840011472510856 achieved with weight of 1.875 and bias of -2.5\n"
     ]
    },
    {
     "data": {
      "image/png": "[encoded data removed]",
      "text/plain": [
       "<Figure size 432x288 with 1 Axes>"
      ]
     },
     "metadata": {
      "needs_background": "light"
     },
     "output_type": "display_data"
    }
   ],
   "source": [
    "# try using 100 grid search values\n",
    "grid_search_values = generate_grid_search_values(2, n_samples=100) # generate model parameterisations to try\n",
    "best_weights, best_bias = grid_search(grid_search_values) # perform grid search\n",
    "H.update_params(best_weights, best_bias) ## update model with best parameters found\n",
    "plot_h_vs_y(X, H(X), Y) # plot predictions and true labels\n",
    "\n",
    "grid_search_values = generate_grid_search_values(2, n_samples=99) # generate model parameterisations to try\n",
    "best_weights, best_bias = grid_search(grid_search_values) # perform grid search\n",
    "H.update_params(best_weights, best_bias) # update model with best parameters found\n",
    "plot_h_vs_y(X, H(X), Y) # plot predictions and true labels"
   ]
  },
  {
   "cell_type": "code",
   "execution_count": 17,
   "metadata": {},
   "outputs": [
    {
     "name": "stdout",
     "output_type": "stream",
     "text": [
      "-31.91111204919594 13.713325410803474\n"
     ]
    }
   ],
   "source": [
    "\n",
    "class LinearHypothesis:\n",
    "    def __init__(self): \n",
    "        self.w = np.random.randn() # weight\n",
    "        self.b = np.random.randn() # bias\n",
    "    \n",
    "    def __call__(self, X): # how do we calculate output from an input in our model?\n",
    "        y_hat = self.w*X + self.b\n",
    "        return y_hat\n",
    "    \n",
    "    def update_params(self, new_w, new_b):\n",
    "        self.w = new_w\n",
    "        self.b = new_b\n",
    "        \n",
    "    def calc_deriv(self, X, y_hat, labels):\n",
    "        diffs =  y_hat - labels# calculate errors\n",
    "        dLdw = 2 * np.sum(diffs * X)/len(X) # calculate derivative of loss with respect to weights\n",
    "        dLdb = 2 * np.sum(diffs)/len(X) # calculate derivative of loss with respect to bias\n",
    "        return dLdw, dLdb\n",
    "    \n",
    "H = LinearHypothesis() # initialise our model\n",
    "y_hat = H(X) # make prediction\n",
    "dLdw, dLdb = H.calc_deriv(X,y_hat,Y) # calculate gradient of current loss with respect to model parameters\n",
    "print(dLdw, dLdb)"
   ]
  },
  {
   "cell_type": "code",
   "execution_count": 33,
   "metadata": {},
   "outputs": [
    {
     "name": "stdout",
     "output_type": "stream",
     "text": [
      "Final cost: 1.1770296051302958\n",
      "Weight values: 2.3292632727446723\n",
      "Bias values: -7.158365092669152\n"
     ]
    },
    {
     "data": {
      "image/png": "[encoded data removed]",
      "text/plain": [
       "<Figure size 432x288 with 1 Axes>"
      ]
     },
     "metadata": {
      "needs_background": "light"
     },
     "output_type": "display_data"
    },
    {
     "data": {
      "image/png": "[encoded data removed]",
      "text/plain": [
       "<Figure size 432x288 with 1 Axes>"
      ]
     },
     "metadata": {
      "needs_background": "light"
     },
     "output_type": "display_data"
    }
   ],
   "source": [
    "num_epochs = 10\n",
    "learning_rate = 0.1\n",
    "H = LinearHypothesis()\n",
    "\n",
    "def train(num_epochs, X, Y, H, L, plot_cost_curve=False):\n",
    "    all_costs = [] # initialise empty list of costs to plot later\n",
    "    for e in range(num_epochs): # for this many complete runs through the dataset\n",
    "        y_hat = H(X) # make predictions\n",
    "        cost = L(y_hat, Y) # compute loss \n",
    "        dLdw, dLdb = H.calc_deriv(X, y_hat,Y) # calculate gradient of current loss with respect to model parameters\n",
    "        new_w =H.w - learning_rate * dLdw  # compute new model weight using gradient descent update rule\n",
    "        new_b = H.b  - learning_rate * dLdb # compute new model bias using gradient descent update rule\n",
    "        H.update_params(new_w, new_b) # update model weight and bias\n",
    "        all_costs.append(cost) # add cost for this batch of examples to the list of costs (for plotting)\n",
    "    if plot_cost_curve: # plot stuff\n",
    "        plt.figure() # make a figure\n",
    "        plt.ylabel('Cost')\n",
    "        plt.xlabel('Epoch')\n",
    "        plt.plot(all_costs) # plot costs\n",
    "    print('Final cost:', cost)\n",
    "    print('Weight values:', H.w)\n",
    "    print('Bias values:', H.b)\n",
    "    #return cost, H.w\n",
    "    \n",
    "train(num_epochs, X, Y, H, L, plot_cost_curve=True) # train model and plot cost curve\n",
    "plot_h_vs_y(X, H(X), Y) # plot predictions and true data"
   ]
  },
  {
   "cell_type": "code",
   "execution_count": 34,
   "metadata": {},
   "outputs": [
    {
     "name": "stdout",
     "output_type": "stream",
     "text": [
      "[array([[  1.90843253,  -1.5594158 ,   3.36289127,   2.99523513],\n",
      "       [ -3.47543249, -11.76429109,  -0.33597861,  -1.09890172]]), array([[ -1.44224871,  -1.82632462,  -2.7770476 ,  -2.89895127],\n",
      "       [-11.10333541, -12.23646361, -14.37809713, -14.527751  ]]), array([[ -1.11066434,   1.67617861],\n",
      "       [-10.85510645,  -4.27773453]])]\n",
      "3\n"
     ]
    }
   ],
   "source": [
    "from time import time\n",
    "from random import shuffle\n",
    "\n",
    "def create_batches(dataset, batch_size=4):\n",
    "    shuffle(dataset) # shuffle the dataset\n",
    "    idx = 0 # initialise starting point in dataset (index of first example to be put into the next batch)\n",
    "    batches = []\n",
    "    while idx < len(dataset): # while starting point index is less than the length of the dataset \n",
    "        if idx + batch_size < len(dataset): # if enough examples remain to make a whole batch\n",
    "            batch = dataset[idx: idx + batch_size] # make a batch from those examples \n",
    "        else: # otherwise\n",
    "            batch = dataset[idx:] # take however many examples remain (less than batch size)\n",
    "        batches.append(batch) # add this batch to the list of batches\n",
    "        idx += batch_size # increment the starting point for the next batch\n",
    "    batches = [np.array(list(zip(*b))) for b in batches] # unzip the batches into lists of inputs and outputs so batch = [all_inputs, all_outputs] rather than batch = [(input_1, output_1), ..., (input_batch_size, output_batch_size)]\n",
    "    return batches\n",
    "\n",
    "dataset = list(zip(X, Y))\n",
    "data_loader = create_batches(dataset, batch_size=4)\n",
    "print(data_loader)\n",
    "print(len(data_loader)) # should be m / batch_size rounded up"
   ]
  },
  {
   "cell_type": "code",
   "execution_count": null,
   "metadata": {},
   "outputs": [
    {
     "name": "stdout",
     "output_type": "stream",
     "text": [
      "Full batch training\n"
     ]
    }
   ],
   "source": [
    "learning_rate = 0.001\n",
    "H = LinearHypothesis()\n",
    "m = 10000\n",
    "num_updates = 10 * m\n",
    "X, Y = sample_linear_data(m)\n",
    "dataset = list(zip(X, Y))\n",
    "\n",
    "def train(num_updates, data_loader, H, L, plot_cost_curve=False, plot_h=False):\n",
    "    costs = [] # initialise empty list of costs to plot later\n",
    "    update_idx = 0\n",
    "    inference_times = []\n",
    "    update_times = []\n",
    "    while update_idx < num_updates: # for this many complete runs through the dataset\n",
    "        batch_costs = []\n",
    "        for x, y in data_loader:\n",
    "            inference_start = time() # get time at start of inference\n",
    "            y_hat = H(x) # make predictions\n",
    "            inference_times.append(time() - inference_start) # add duration of inference\n",
    "            cost = L(y_hat, y) # compute loss \n",
    "            update_start = time()\n",
    "            dLdw, dLdb = H.calc_deriv(x, y_hat, y) # calculate gradient of current loss with respect to model parameters\n",
    "            new_w = H.w - learning_rate * dLdw # compute new model weight using gradient descent update rule\n",
    "            new_b = H.b - learning_rate * dLdb # compute new model bias using gradient descent update rule\n",
    "            H.update_params(new_w, new_b) # update model weight and bias\n",
    "            update_times.append(time() - update_start)\n",
    "            update_idx += 1\n",
    "            batch_costs.append(cost)\n",
    "            #prop_complete = round((update_idx / num_updates) * 100)     \n",
    "            #print('\\r' + [\"|\", \"/\", \"-\", \"\\\\\"][update_idx % 4], end='')\n",
    "            #print(f'\\r[{prop_complete * \"=\" + (0 - prop_complete) * \"-\"}]', end='')\n",
    "        costs.append(np.mean(batch_costs)) # add cost for this batch of examples to the list of costs (for plotting)\n",
    "    if plot_cost_curve: # plot stuff\n",
    "        plt.figure() # make a figure\n",
    "        plt.ylabel('Cost')\n",
    "        plt.xlabel('Update idx')\n",
    "        plt.plot(costs) # plot costs\n",
    "        plt.show()\n",
    "    if plot_h:\n",
    "        plot_h_vs_y(X, H(X), Y)\n",
    "    print(f'Average inference (prediction) time: {np.mean(inference_times)*1000:.3f} milliseconds')\n",
    "    print(f'Average weight update time: {np.mean(update_times)*1000:.3f} milliseconds')\n",
    "    print('Final cost:', cost)\n",
    "#     print('Weight values:', H.w)\n",
    "#     print('Bias values:', H.b)\n",
    "    print()\n",
    "    \n",
    "\n",
    "print('Full batch training')\n",
    "full_batch_data_loader = create_batches(dataset, batch_size=len(dataset))\n",
    "train(num_updates, full_batch_data_loader, H, L, plot_cost_curve=True)\n",
    "\n",
    "print('Stochastic training')\n",
    "stochastic_data_loader = create_batches(dataset, batch_size=1)\n",
    "train(num_updates, stochastic_data_loader, H, L, plot_cost_curve=True)\n",
    "\n",
    "print('Mini-batch training')\n",
    "mini_batch_data_loader = create_batches(dataset, batch_size=32)\n",
    "train(num_updates, mini_batch_data_loader, H, L, plot_cost_curve=True)"
   ]
  },
  {
   "cell_type": "code",
   "execution_count": null,
   "metadata": {},
   "outputs": [],
   "source": []
  }
 ],
 "metadata": {
  "kernelspec": {
   "display_name": "Python 3",
   "language": "python",
   "name": "python3"
  },
  "language_info": {
   "codemirror_mode": {
    "name": "ipython",
    "version": 3
   },
   "file_extension": ".py",
   "mimetype": "text/x-python",
   "name": "python",
   "nbconvert_exporter": "python",
   "pygments_lexer": "ipython3",
   "version": "3.7.6"
  }
 },
 "nbformat": 4,
 "nbformat_minor": 4
}
